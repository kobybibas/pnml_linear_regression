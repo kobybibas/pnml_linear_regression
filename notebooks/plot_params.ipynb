{
 "cells": [
  {
   "cell_type": "code",
   "execution_count": 9,
   "metadata": {},
   "outputs": [],
   "source": [
    "import matplotlib as mpl\n",
    "import matplotlib.pyplot as plt\n",
    "import numpy as np"
   ]
  },
  {
   "cell_type": "code",
   "execution_count": 10,
   "metadata": {},
   "outputs": [],
   "source": [
    "# Plot params\n",
    "# mpl.style.use(\"seaborn-dark\")\n",
    "mpl.style.use(\"ggplot\")\n",
    "mpl.rcParams[\"axes.grid\"] = True\n",
    "mpl.rcParams[\"legend.frameon\"] = True\n",
    "mpl.rcParams[\"figure.dpi\"] = 85\n",
    "mpl.rcParams[\"axes.labelsize\"] = \"large\"\n",
    "# plt.rcParams[\"ytick.major.size\"] = 5.0\n",
    "# plt.rcParams[\"ytick.minor.size\"] = 3.0\n",
    "plt.rcParams[\"legend.framealpha\"] = 0.9\n",
    "w,h = plt.rcParams.get('figure.figsize')"
   ]
  }
 ],
 "metadata": {
  "kernelspec": {
   "display_name": "Python 3",
   "language": "python",
   "name": "python3"
  },
  "language_info": {
   "codemirror_mode": {
    "name": "ipython",
    "version": 3
   },
   "file_extension": ".py",
   "mimetype": "text/x-python",
   "name": "python",
   "nbconvert_exporter": "python",
   "pygments_lexer": "ipython3",
   "version": "3.8.5"
  }
 },
 "nbformat": 4,
 "nbformat_minor": 4
}
