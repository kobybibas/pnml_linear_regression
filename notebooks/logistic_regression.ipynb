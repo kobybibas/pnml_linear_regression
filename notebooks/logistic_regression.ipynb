{
 "cells": [
  {
   "cell_type": "markdown",
   "metadata": {},
   "source": [
    "# Logistic regression"
   ]
  },
  {
   "cell_type": "code",
   "execution_count": 1,
   "metadata": {},
   "outputs": [
    {
     "ename": "ModuleNotFoundError",
     "evalue": "No module named 'sklearn'",
     "output_type": "error",
     "traceback": [
      "\u001b[0;31m---------------------------------------------------------------------------\u001b[0m",
      "\u001b[0;31mModuleNotFoundError\u001b[0m                       Traceback (most recent call last)",
      "\u001b[0;32m<ipython-input-1-bdd38bc35486>\u001b[0m in \u001b[0;36m<module>\u001b[0;34m\u001b[0m\n\u001b[1;32m      2\u001b[0m \u001b[0;32mimport\u001b[0m \u001b[0mpandas\u001b[0m \u001b[0;32mas\u001b[0m \u001b[0mpd\u001b[0m\u001b[0;34m\u001b[0m\u001b[0;34m\u001b[0m\u001b[0m\n\u001b[1;32m      3\u001b[0m \u001b[0;32mimport\u001b[0m \u001b[0mmatplotlib\u001b[0m\u001b[0;34m.\u001b[0m\u001b[0mpyplot\u001b[0m \u001b[0;32mas\u001b[0m \u001b[0mplt\u001b[0m\u001b[0;34m\u001b[0m\u001b[0;34m\u001b[0m\u001b[0m\n\u001b[0;32m----> 4\u001b[0;31m \u001b[0;32mfrom\u001b[0m \u001b[0msklearn\u001b[0m\u001b[0;34m.\u001b[0m\u001b[0mlinear_model\u001b[0m \u001b[0;32mimport\u001b[0m \u001b[0mLogisticRegression\u001b[0m\u001b[0;34m\u001b[0m\u001b[0;34m\u001b[0m\u001b[0m\n\u001b[0m\u001b[1;32m      5\u001b[0m \u001b[0;32mfrom\u001b[0m \u001b[0mtqdm\u001b[0m \u001b[0;32mimport\u001b[0m \u001b[0mtqdm_notebook\u001b[0m \u001b[0;32mas\u001b[0m \u001b[0mtqdm\u001b[0m\u001b[0;34m\u001b[0m\u001b[0;34m\u001b[0m\u001b[0m\n\u001b[1;32m      6\u001b[0m \u001b[0;32mimport\u001b[0m \u001b[0mmatplotlib\u001b[0m \u001b[0;32mas\u001b[0m \u001b[0mmpl\u001b[0m\u001b[0;34m\u001b[0m\u001b[0;34m\u001b[0m\u001b[0m\n",
      "\u001b[0;31mModuleNotFoundError\u001b[0m: No module named 'sklearn'"
     ]
    }
   ],
   "source": [
    "import numpy as np\n",
    "import pandas as pd\n",
    "import matplotlib.pyplot as plt\n",
    "from sklearn.linear_model import LogisticRegression\n",
    "from tqdm import tqdm_notebook as tqdm\n",
    "import matplotlib as mpl"
   ]
  },
  {
   "cell_type": "code",
   "execution_count": null,
   "metadata": {},
   "outputs": [],
   "source": [
    "# Numeric pNML\n",
    "def add_to_test(x_train, y_train, x, y):\n",
    "    return np.concatenate((x_train, x)), np.concatenate((y_train, y))\n",
    "\n",
    "\n",
    "def calc_numerical_regres(\n",
    "    phi_train: np.ndarray, y_train: np.ndarray, phi_test: np.ndarray\n",
    ") -> np.ndarray:\n",
    "    regret_list = []\n",
    "    for phi in tqdm(phi_test):\n",
    "        phi = np.expand_dims(phi, 0)\n",
    "\n",
    "        phi_all, y_all = add_to_test(phi_train, y_train, phi, np.array([0]))\n",
    "        clf = LogisticRegression(random_state=0, C=np.inf).fit(phi_all, y_all)\n",
    "        p0 = clf.predict_proba(phi)[0][0]\n",
    "\n",
    "        phi_all, y_all = add_to_test(phi_train, y_train, phi, np.array([1]))\n",
    "        clf = LogisticRegression(random_state=0, C=np.inf).fit(phi_all, y_all)\n",
    "        p1 = clf.predict_proba(phi)[0][1]\n",
    "\n",
    "        regret = np.log2(p0 + p1)\n",
    "        regret_list.append(regret)\n",
    "    return np.asarray(regret_list)"
   ]
  },
  {
   "cell_type": "markdown",
   "metadata": {},
   "source": [
    "# 2D Data"
   ]
  },
  {
   "cell_type": "code",
   "execution_count": null,
   "metadata": {},
   "outputs": [],
   "source": [
    "x_train = np.array([-0.8, -0.75, -0.7, -0.65, -0.6, -0.4, 0.4, 0.45, 0.8, 0.85])\n",
    "x_train = np.vstack((x_train, np.zeros(x_train.shape[0]))).T\n",
    "y_train = np.array([0, 0, 0, 0, 0, 0, 1, 1, 1, 0])\n",
    "\n",
    "x_train = np.array([-0.8, -0.75, -0.7, -0.65, -0.6, -0.4, 0.4, 0.45, 0.8, 0.85])\n",
    "x_train = np.vstack((x_train, np.zeros(x_train.shape[0]))).T\n",
    "y_train = np.array([0, 0, 0, 0, 0, 0, 1, 1, 1, 1])\n",
    "\n",
    "print(f\"Trainset:\")\n",
    "print(f\"\\tlabels: {y_train}\")\n",
    "print(f\"\\tdata:\\n{x_train}\")\n",
    "assert x_train.shape[0] == y_train.shape[0]\n",
    "\n",
    "\n",
    "# Test\n",
    "xy_range = np.arange(-1.2, 1.2, 0.05)\n",
    "x_test = np.array([[x, y] for x in xy_range for y in xy_range]).round(3)\n",
    "print(f\"Test shape {x_test.shape}\")"
   ]
  },
  {
   "cell_type": "markdown",
   "metadata": {},
   "source": [
    "## ERM predicition"
   ]
  },
  {
   "cell_type": "code",
   "execution_count": null,
   "metadata": {},
   "outputs": [],
   "source": [
    "phi_train, phi_test = x_train, x_test\n",
    "clf = LogisticRegression(random_state=0, C=np.inf).fit(phi_train, y_train)\n",
    "probs = clf.predict_proba(phi_test)\n",
    "w_N = clf.coef_.copy()\n",
    "print(w_N)\n",
    "\n",
    "w, h = plt.figure().get_size_inches()\n",
    "fig, axs = plt.subplots(1, 2, figsize=(w * 1.8, h))\n",
    "ax = axs[0]\n",
    "im = ax.scatter(phi_test[:, 0], phi_test[:, 1], c=probs[:, 1], cmap=\"viridis\")\n",
    "ax.scatter(phi_train[:, 0], phi_train[:, 1], marker=\"x\", color=\"r\", label=\"Trainset\")\n",
    "ax.set_xlabel(r\"$Feature_1$\")\n",
    "ax.set_ylabel(r\"$Feature_2$\")\n",
    "fig.colorbar(im, label=\"P(y=1|x)\", ax=ax)\n",
    "ax.legend()\n",
    "ax.set_title(r\"Prediction Probability Assignmnet $P(y=1|x)$\")\n",
    "\n",
    "# 1D plots\n",
    "indx_on_zero = phi_test[:, 1] == 0.0\n",
    "ax = axs[1]\n",
    "ax.plot(phi_test[indx_on_zero, 0], probs[indx_on_zero, 1])\n",
    "ax.plot(phi_train[:, 0], y_train, \"rx\", label=\"Trainset\")\n",
    "ax.set_title(r\"$P(y=1|x)$ at $Feature_2$ = 0\")\n",
    "ax.set_ylim(-0.01, 1.02)\n",
    "ax.set_xlabel(r\"$Feature_1$\")\n",
    "ax.grid()\n",
    "plt.show()"
   ]
  },
  {
   "cell_type": "markdown",
   "metadata": {},
   "source": [
    "## pNML"
   ]
  },
  {
   "cell_type": "code",
   "execution_count": null,
   "metadata": {},
   "outputs": [],
   "source": [
    "# Numerical pNML\n",
    "regret_numerical = calc_numerical_regres(phi_train, y_train, phi_test)"
   ]
  },
  {
   "cell_type": "code",
   "execution_count": null,
   "metadata": {},
   "outputs": [],
   "source": []
  },
  {
   "cell_type": "code",
   "execution_count": null,
   "metadata": {},
   "outputs": [],
   "source": [
    "# Analytical pNML\n",
    "regret_analytic, projections, responces = [], [], []\n",
    "\n",
    "corr = np.linalg.pinv(phi_train).dot(phi_train)\n",
    "for phi in tqdm(phi_test):\n",
    "    projection_i = phi.dot(np.eye(corr.shape[0]) - corr).dot(phi.T)\n",
    "\n",
    "    eps = 0 if projection_i > 1e-20 else 10  # 1e-6 20\n",
    "    #     eps = 1e-21\n",
    "    z = w_N.dot(phi.T)\n",
    "    regret_i = np.log2(\n",
    "        1 + 1 / (1 + 2 * (eps ** projection_i) * np.cosh(z * (1 + projection_i)))\n",
    "    )\n",
    "    regret_analytic.append(regret_i)\n",
    "    projections.append(projection_i)\n",
    "    responces.append(z)\n",
    "\n",
    "projections = np.asarray(projections).squeeze()\n",
    "regret_analytic = np.asarray(regret_analytic).squeeze()\n",
    "responces = np.asarray(responces).squeeze()"
   ]
  },
  {
   "cell_type": "code",
   "execution_count": null,
   "metadata": {},
   "outputs": [],
   "source": [
    "# # Tune eps\n",
    "# idx_of_max = np.where(np.logical_and(phi_test[:, 0] == 0.0, phi_test[:, 1] == 0.0))[0]\n",
    "# phi = phi_test[idx_of_max]\n",
    "\n",
    "# for eps in np.logspace(-30, 1, 30):\n",
    "#     projection_i = phi.dot(np.eye(corr.shape[0]) - corr).dot(phi.T)\n",
    "#     z = w_N.dot(phi.T)\n",
    "#     regret_i = np.log2(\n",
    "#         1 + 1 / (1 + 2 * (eps ** projection_i) * np.cosh(z * (1 + projection_i)))\n",
    "#     )\n",
    "#     print(eps, regret_i)"
   ]
  },
  {
   "cell_type": "code",
   "execution_count": null,
   "metadata": {},
   "outputs": [],
   "source": [
    "w, h = plt.figure().get_size_inches()\n",
    "fig, axs = plt.subplots(3, 2, sharex=True, figsize=(w * 2, h * 3))\n",
    "\n",
    "ax = axs[0, 0]\n",
    "im = ax.scatter(phi_test[:, 0], phi_test[:, 1], c=regret_numerical, cmap=\"viridis\")\n",
    "ax.scatter(phi_train[:, 0], phi_train[:, 1], marker=\"x\", color=\"r\", label=\"Train\")\n",
    "ax.set_xlabel(r\"$Feature_1$\")\n",
    "ax.set_ylabel(r\"$Feature_2$\")\n",
    "ax.set_title(\"Numerical Regret\")\n",
    "ax.legend(loc=1)\n",
    "fig.colorbar(im, label=\"Regret\", ax=ax)\n",
    "\n",
    "ax = axs[1, 0]\n",
    "im = ax.scatter(phi_test[:, 0], phi_test[:, 1], c=regret_analytic, cmap=\"viridis\")\n",
    "ax.scatter(phi_train[:, 0], phi_train[:, 1], marker=\"x\", color=\"r\", label=\"Train\")\n",
    "ax.set_xlabel(r\"$Feature_1$\")\n",
    "ax.set_ylabel(r\"$Feature_2$\")\n",
    "ax.set_title(\"Analyitical Regret\")\n",
    "\n",
    "fig.colorbar(im, label=\"Regret\", ax=ax)\n",
    "\n",
    "ax = axs[2, 0]\n",
    "im = ax.scatter(\n",
    "    phi_test[:, 0],\n",
    "    phi_test[:, 1],\n",
    "    c=projections,\n",
    "    cmap=\"viridis\",\n",
    "    norm=mpl.colors.LogNorm(),\n",
    ")\n",
    "ax.scatter(phi_train[:, 0], phi_train[:, 1], marker=\"x\", color=\"r\", label=\"Trainset\")\n",
    "ax.set_xlabel(r\"$Feature_1$\")\n",
    "ax.set_ylabel(r\"$Feature_2$\")\n",
    "fig.colorbar(im, label=r\"Projection on $P_\\bot$\", ax=ax)\n",
    "ax.set_title(r\"Projection on $P_\\bot$\")\n",
    "\n",
    "\n",
    "# 1D plots\n",
    "indx_on_zero = phi_test[:, 1] == 0.0\n",
    "\n",
    "ax = axs[0, 1]\n",
    "ax.plot(phi_test[indx_on_zero, 0], regret_numerical[indx_on_zero])\n",
    "ax.scatter(phi_train[:, 0],[0]*len(phi_train), marker=\"x\", color=\"r\", label=\"Trainset\")\n",
    "ax.set_ylabel(\"Regret\")\n",
    "ax.set_xlabel(r\"$Feature_1$\")\n",
    "ax.set_title(r\"Numerical Regret at $Feature_2=0$\")\n",
    "ax.grid()\n",
    "ax.set_ylim(-0.01, 1.01)\n",
    "\n",
    "ax = axs[1, 1]\n",
    "ax.plot(phi_test[indx_on_zero, 0], regret_analytic[indx_on_zero])\n",
    "ax.scatter(phi_train[:, 0],[0]*len(phi_train), marker=\"x\", color=\"r\", label=\"Trainset\")\n",
    "ax.set_ylabel(\"Regret\")\n",
    "ax.set_xlabel(r\"$Feature_1$\")\n",
    "ax.set_title(r\"Analytical Regret at $Feature_2$ = 0\")\n",
    "ax.grid()\n",
    "ax.set_ylim(-0.01, 1.01)\n",
    "\n",
    "ax = axs[2, 1]\n",
    "ax.plot(phi_test[indx_on_zero, 0], projections[indx_on_zero])\n",
    "ax.set_yscale(\"log\")\n",
    "ax.set_ylabel(r\"Projection on $P_\\bot$\")\n",
    "ax.set_xlabel(r\"$Feature_1$\")\n",
    "ax.set_title(r\"Projection on $P_\\bot$ at $Feature_2=0$\")\n",
    "ax.grid()\n",
    "\n",
    "plt.tight_layout()\n",
    "plt.show()"
   ]
  },
  {
   "cell_type": "code",
   "execution_count": null,
   "metadata": {},
   "outputs": [],
   "source": [
    "fig, ax = plt.subplots(1, 1)\n",
    "im = ax.scatter(phi_test[:, 0], phi_test[:, 1], c=responces, cmap=\"viridis\")\n",
    "ax.set_xlabel(r\"$Feature_1$\")\n",
    "ax.set_ylabel(r\"$Feature_2$\")\n",
    "ax.set_title(\"Responce\")\n",
    "fig.colorbar(im, label=\"Responce\", ax=ax)\n",
    "plt.show()\n",
    "print(responces.max(), responces.min())"
   ]
  },
  {
   "cell_type": "code",
   "execution_count": null,
   "metadata": {},
   "outputs": [],
   "source": [
    "projections[indx_on_zero]"
   ]
  },
  {
   "cell_type": "code",
   "execution_count": null,
   "metadata": {},
   "outputs": [],
   "source": []
  }
 ],
 "metadata": {
  "kernelspec": {
   "display_name": "Python 3",
   "language": "python",
   "name": "python3"
  },
  "language_info": {
   "codemirror_mode": {
    "name": "ipython",
    "version": 3
   },
   "file_extension": ".py",
   "mimetype": "text/x-python",
   "name": "python",
   "nbconvert_exporter": "python",
   "pygments_lexer": "ipython3",
   "version": "3.8.3"
  }
 },
 "nbformat": 4,
 "nbformat_minor": 4
}
