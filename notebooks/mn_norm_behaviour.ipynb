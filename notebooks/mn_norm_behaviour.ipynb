{
 "cells": [
  {
   "cell_type": "code",
   "execution_count": 1,
   "metadata": {},
   "outputs": [],
   "source": [
    "import matplotlib.pyplot as plt\n",
    "import numpy as np\n",
    "import matplotlib as mpl"
   ]
  },
  {
   "cell_type": "code",
   "execution_count": 2,
   "metadata": {},
   "outputs": [],
   "source": [
    "# Plot params\n",
    "mpl.style.use(\"seaborn-dark\")\n",
    "mpl.rcParams[\"axes.grid\"] = True\n",
    "mpl.rcParams[\"legend.frameon\"] = True\n",
    "mpl.rcParams[\"figure.dpi\"] = 85\n",
    "mpl.rcParams[\"axes.labelsize\"] = \"large\""
   ]
  },
  {
   "cell_type": "code",
   "execution_count": 3,
   "metadata": {},
   "outputs": [],
   "source": [
    "theta_mn_square = 0.5\n",
    "\n",
    "\n",
    "y = np.linspace(-1, 2, 100)\n",
    "y_mn = 0.25\n",
    "\n",
    "x_bot_square = 0.1\n",
    "theta_n_1_sqaure_1 = theta_mn_square + (1 / x_bot_square) * (y - y_mn) ** 2\n",
    "\n",
    "x_bot_square = 1\n",
    "theta_n_1_sqaure_2 = theta_mn_square + (1 / x_bot_square) * (y - y_mn) ** 2"
   ]
  },
  {
   "cell_type": "code",
   "execution_count": 75,
   "metadata": {},
   "outputs": [
    {
     "name": "stdout",
     "output_type": "stream",
     "text": [
      "2.0 31.125\n",
      "[-0.75, -0.5, -0.25, 0.0, 0.25, 0.5, 0.75, 1.0, 1.25, 1.5, 1.75, 2.0]\n"
     ]
    },
    {
     "data": {
      "image/png": "[encoded data removed]",
      "text/plain": [
       "<Figure size 510x340 with 1 Axes>"
      ]
     },
     "metadata": {},
     "output_type": "display_data"
    }
   ],
   "source": [
    "fig, ax = plt.subplots(1, 1)\n",
    "\n",
    "plt.plot(y, theta_n_1_sqaure_1, label=r\"$||x_\\bot||^2 = 0.1$\")\n",
    "plt.plot(y, theta_n_1_sqaure_2, label=r\"$||x_\\bot||^2 = 1$\")\n",
    "# plt.grid()\n",
    "plt.legend(prop={'size': 10})\n",
    "plt.xlabel(\"y\", size=16)\n",
    "plt.ylabel(r\"$||\\theta_{N+1}||^2$\", size=16)\n",
    "# plt.title(\n",
    "#     r\"$||\\theta_{N+1}||^2 = ||\\theta_{MN}||^2 + \\frac{1}{||x_\\bot||^2}(y-x^\\top \\theta_{MN})^2$\"\n",
    "# )\n",
    "\n",
    "print(np.max(y), np.max(theta_n_1_sqaure_1))\n",
    "xtickslocs = ax.get_xticks()\n",
    "\n",
    "\n",
    "xticks = [y_mn + i for i in np.arange(-1, 2, y_mn)]\n",
    "print(xticks)\n",
    "xticklabels = [r\"$x^\\top \\theta_{MN}$\" if z == y_mn else \"\" for z in xticks]\n",
    "\n",
    "\n",
    "yticks = [theta_mn_square + i for i in np.arange(-8, 35, 8 * theta_mn_square)]\n",
    "yticklabels = [r\"$||\\theta_{MN}||^2$\" if z == theta_mn_square else \"\" for z in yticks]\n",
    "\n",
    "\n",
    "ax.grid(True)\n",
    "ax.set_xticks(xticks)\n",
    "ax.set_xticklabels(xticklabels,size=12)\n",
    "ax.set_yticks(yticks)\n",
    "ax.set_yticklabels(yticklabels, rotation=0,size=12)\n",
    "\n",
    "# ax.grid(True)\n",
    "# ax.set_xticks([y_mn, 4*y_mn,8*y_mn])\n",
    "# ax.set_xticklabels([r\"$x^\\top \\theta_{MN}$\", ''])\n",
    "# ax.set_yticks([theta_mn_square])\n",
    "# ax.set_yticklabels([r\"$||\\theta_{MN}||^2$\"])\n",
    "plt.xlim(-1, 2)\n",
    "plt.ylim(-2, 35)\n",
    "plt.tight_layout()\n",
    "plt.savefig(\"../output/min_norm_behaviour.pdf\")\n",
    "plt.show()"
   ]
  },
  {
   "cell_type": "code",
   "execution_count": 31,
   "metadata": {},
   "outputs": [
    {
     "data": {
      "text/plain": [
       "array([-1.        , -0.96969697, -0.93939394, -0.90909091, -0.87878788,\n",
       "       -0.84848485, -0.81818182, -0.78787879, -0.75757576, -0.72727273,\n",
       "       -0.6969697 , -0.66666667, -0.63636364, -0.60606061, -0.57575758,\n",
       "       -0.54545455, -0.51515152, -0.48484848, -0.45454545, -0.42424242,\n",
       "       -0.39393939, -0.36363636, -0.33333333, -0.3030303 , -0.27272727,\n",
       "       -0.24242424, -0.21212121, -0.18181818, -0.15151515, -0.12121212,\n",
       "       -0.09090909, -0.06060606, -0.03030303,  0.        ,  0.03030303,\n",
       "        0.06060606,  0.09090909,  0.12121212,  0.15151515,  0.18181818,\n",
       "        0.21212121,  0.24242424,  0.27272727,  0.3030303 ,  0.33333333,\n",
       "        0.36363636,  0.39393939,  0.42424242,  0.45454545,  0.48484848,\n",
       "        0.51515152,  0.54545455,  0.57575758,  0.60606061,  0.63636364,\n",
       "        0.66666667,  0.6969697 ,  0.72727273,  0.75757576,  0.78787879,\n",
       "        0.81818182,  0.84848485,  0.87878788,  0.90909091,  0.93939394,\n",
       "        0.96969697,  1.        ,  1.03030303,  1.06060606,  1.09090909,\n",
       "        1.12121212,  1.15151515,  1.18181818,  1.21212121,  1.24242424,\n",
       "        1.27272727,  1.3030303 ,  1.33333333,  1.36363636,  1.39393939,\n",
       "        1.42424242,  1.45454545,  1.48484848,  1.51515152,  1.54545455,\n",
       "        1.57575758,  1.60606061,  1.63636364,  1.66666667,  1.6969697 ,\n",
       "        1.72727273,  1.75757576,  1.78787879,  1.81818182,  1.84848485,\n",
       "        1.87878788,  1.90909091,  1.93939394,  1.96969697,  2.        ])"
      ]
     },
     "execution_count": 31,
     "metadata": {},
     "output_type": "execute_result"
    }
   ],
   "source": [
    "y"
   ]
  },
  {
   "cell_type": "code",
   "execution_count": 14,
   "metadata": {},
   "outputs": [
    {
     "data": {
      "text/plain": [
       "array([-1.5, -1. , -0.5,  0. ,  0.5,  1. ,  1.5,  2. ,  2.5])"
      ]
     },
     "execution_count": 14,
     "metadata": {},
     "output_type": "execute_result"
    }
   ],
   "source": [
    "xtickslocs = ax.get_xticks()\n",
    "xtickslocs"
   ]
  },
  {
   "cell_type": "code",
   "execution_count": null,
   "metadata": {},
   "outputs": [],
   "source": []
  }
 ],
 "metadata": {
  "kernelspec": {
   "display_name": "Python 3",
   "language": "python",
   "name": "python3"
  },
  "language_info": {
   "codemirror_mode": {
    "name": "ipython",
    "version": 3
   },
   "file_extension": ".py",
   "mimetype": "text/x-python",
   "name": "python",
   "nbconvert_exporter": "python",
   "pygments_lexer": "ipython3",
   "version": "3.8.5"
  }
 },
 "nbformat": 4,
 "nbformat_minor": 4
}
