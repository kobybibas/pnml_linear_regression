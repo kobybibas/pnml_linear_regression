{
 "cells": [
  {
   "cell_type": "code",
   "execution_count": 2,
   "metadata": {},
   "outputs": [],
   "source": [
    "import matplotlib.pyplot as plt\n",
    "import numpy as np\n",
    "import matplotlib as mpl"
   ]
  },
  {
   "cell_type": "code",
   "execution_count": 3,
   "metadata": {},
   "outputs": [],
   "source": [
    "# Plot params\n",
    "mpl.style.use(\"seaborn-dark\")\n",
    "mpl.rcParams[\"axes.grid\"] = True\n",
    "mpl.rcParams[\"legend.frameon\"] = True\n",
    "mpl.rcParams[\"figure.dpi\"] = 85\n",
    "mpl.rcParams[\"axes.labelsize\"] = \"large\""
   ]
  },
  {
   "cell_type": "code",
   "execution_count": 4,
   "metadata": {},
   "outputs": [],
   "source": [
    "theta_mn_square = 0.5\n",
    "\n",
    "\n",
    "y = np.linspace(-1, 2, 100)\n",
    "y_mn = 0.25\n",
    "\n",
    "x_bot_square = 0.1\n",
    "theta_n_1_sqaure_1 = theta_mn_square + (1 / x_bot_square) * (y - y_mn) ** 2\n",
    "\n",
    "x_bot_square = 1\n",
    "theta_n_1_sqaure_2 = theta_mn_square + (1 / x_bot_square) * (y - y_mn) ** 2"
   ]
  },
  {
   "cell_type": "code",
   "execution_count": 18,
   "metadata": {},
   "outputs": [
    {
     "name": "stdout",
     "output_type": "stream",
     "text": [
      "2.0 31.125\n"
     ]
    },
    {
     "data": {
      "image/png": "[encoded data removed]",
      "text/plain": [
       "<Figure size 510x238 with 1 Axes>"
      ]
     },
     "metadata": {},
     "output_type": "display_data"
    }
   ],
   "source": [
    "w, h = plt.rcParams.get(\"figure.figsize\")\n",
    "fig, ax = plt.subplots(1, 1, figsize=(w, 0.7*h))\n",
    "\n",
    "plt.plot(y, theta_n_1_sqaure_1, label=r\"$||x_\\bot||^2 = c$\", alpha=0.7)\n",
    "plt.plot(y, theta_n_1_sqaure_2, label=r\"$||x_\\bot||^2 = 10 \\cdot c$\", alpha=0.7)\n",
    "# plt.grid()\n",
    "plt.legend(prop={\"size\": 10})\n",
    "plt.xlabel(\"y\", size=16)\n",
    "plt.ylabel(r\"$||\\theta_{N+1}||^2$\", size=16)\n",
    "# plt.title(\n",
    "#     r\"$||\\theta_{N+1}||^2 = ||\\theta_{MN}||^2 + \\frac{1}{||x_\\bot||^2}(y-x^\\top \\theta_{MN})^2$\"\n",
    "# )\n",
    "\n",
    "print(np.max(y), np.max(theta_n_1_sqaure_1))\n",
    "xtickslocs = ax.get_xticks()\n",
    "\n",
    "\n",
    "xticks = [y_mn + i for i in np.arange(-1, 2, y_mn)]\n",
    "xticklabels = [r\"$x^\\top \\theta_{MN}$\" if z == y_mn else \"\" for z in xticks]\n",
    "\n",
    "\n",
    "yticks = [theta_mn_square + i for i in np.arange(-8, 35, 8 * theta_mn_square)]\n",
    "yticklabels = [r\"$||\\theta_{MN}||^2$\" if z == theta_mn_square else \"\" for z in yticks]\n",
    "\n",
    "\n",
    "ax.grid(True)\n",
    "ax.set_xticks(xticks)\n",
    "ax.set_xticklabels(xticklabels, size=12)\n",
    "ax.set_yticks(yticks)\n",
    "ax.set_yticklabels(yticklabels, rotation=0, size=12)\n",
    "\n",
    "plt.xlim(-1, 2)\n",
    "plt.ylim(-2, 35)\n",
    "plt.tight_layout()\n",
    "plt.savefig(\"../output/figures/min_norm_behaviour.pdf\")\n",
    "plt.show()"
   ]
  },
  {
   "cell_type": "code",
   "execution_count": null,
   "metadata": {},
   "outputs": [],
   "source": []
  },
  {
   "cell_type": "code",
   "execution_count": null,
   "metadata": {},
   "outputs": [],
   "source": []
  }
 ],
 "metadata": {
  "kernelspec": {
   "display_name": "Python 3",
   "language": "python",
   "name": "python3"
  },
  "language_info": {
   "codemirror_mode": {
    "name": "ipython",
    "version": 3
   },
   "file_extension": ".py",
   "mimetype": "text/x-python",
   "name": "python",
   "nbconvert_exporter": "python",
   "pygments_lexer": "ipython3",
   "version": "3.8.5"
  }
 },
 "nbformat": 4,
 "nbformat_minor": 4
}
